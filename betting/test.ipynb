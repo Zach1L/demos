{
 "cells": [
  {
   "cell_type": "code",
   "execution_count": null,
   "metadata": {},
   "outputs": [],
   "source": [
    "import numpy as np\n",
    "import pandas as pd\n"
   ]
  },
  {
   "cell_type": "markdown",
   "metadata": {},
   "source": [
    "# Betting Both Sides with Boost\n",
    "\n",
    "Profit Must be greater than 0 on both sides  \n",
    "$B_1 + B_1O_1 -B_1- B_2 >= 0$  \n",
    "$B_2 +B_2O_2-B_1-B_2 >=0$\n",
    "\n",
    "$B_1O_1 - B_2 = B_2O_2 -B_1$\n",
    "\n",
    "\n",
    "$\\large\n",
    "B_2 = \\frac{B_1(O_1 + 1)}{O_2 + 1}\n",
    "$\n",
    "\n",
    "Subject to $B_1 + B_1O_1 - B_2 -B_1 >= 0$  \n",
    "\n",
    "Sub in $B_2$\n",
    "\n",
    "$\\large\n",
    "B_1O_1 >= \\frac{B_1(O_1 + 1)}{O_2 + 1\n",
    "}$\n",
    "\n",
    "$\\large\n",
    "\\frac{O_1}{O_1 + 1} >= \\frac{1}{O_2 + 1}\n",
    "$\n",
    "\n",
    "What boost $x$ to $O_1$ will satistfy this inequality?\n",
    "$\\large\n",
    "\\frac{O_1x}{O_1x + 1} >= \\frac{1}{O_2 + 1}\n",
    "$\n",
    "\n",
    "$\\large\n",
    "x = \\frac{1}{O_1O_2}\n",
    "$\n",
    "\n",
    "\n",
    "# Betting Both Sides With a Free Bet\n",
    "Profit Must be greater than 0 on both sides  \n",
    "$B_fO_1 - B_2 >= 0$  \n",
    "$B_2 +B_2O_2-B_2 >=0$\n",
    "\n",
    "$\\large\n",
    "B_2 = \\frac{B_fO_1}{O_2 + 1}\n",
    "$\n",
    "\n",
    "$\\large\n",
    "Profit_{pct} = \\frac{Profit}{Cost}\n",
    "$\n",
    "$\\large\n",
    "Profit_{pct} = (B_fO_1 - B_2) \\frac{1}{B_f}\n",
    "$\n",
    "$\\large\n",
    "Profit_{pct} = O_1 -  \\frac{O_1}{O_2 + 1}\n",
    "$"
   ]
  },
  {
   "cell_type": "code",
   "execution_count": null,
   "metadata": {},
   "outputs": [],
   "source": [
    "op = np.arange(100,1000,10)\n",
    "on = -1 * np.arange(100,1000,10)\n",
    "min_boost =np.outer(op,on) * np.nan\n",
    "free_wager_to_profit = np.outer(op,on) * np.nan\n",
    "aa, bb =np.meshgrid(op, on)\n",
    "o1 = (aa/100)\n",
    "o2 = -1*(100/bb)\n"
   ]
  },
  {
   "cell_type": "code",
   "execution_count": null,
   "metadata": {},
   "outputs": [],
   "source": [
    "import matplotlib.pyplot as plt\n",
    "import seaborn as sns\n",
    "sns.set_context('talk')\n",
    "sns.set_palette('cividis')\n",
    "%matplotlib inline"
   ]
  },
  {
   "cell_type": "code",
   "execution_count": null,
   "metadata": {},
   "outputs": [],
   "source": [
    "# Boost PCT\n",
    "plt.figure(figsize=(16,9))\n",
    "zz = 1 / (o1 * o2)\n",
    "plt.contourf(aa,bb, zz,levels=np.arange(0,1.1,0.01), cmap='jet')\n",
    "plt.colorbar(label='Boost % to Profit')\n",
    "plt.xlabel('Odds Side 1')\n",
    "plt.ylabel('Odds Side 2')\n",
    "plt.grid()"
   ]
  },
  {
   "cell_type": "code",
   "execution_count": null,
   "metadata": {},
   "outputs": [],
   "source": [
    "plt.figure(figsize=(16,9))\n",
    "free_bet = 300\n",
    "winnings = free_bet * o1\n",
    "b2 = (free_bet * o1 / (1 +o2))\n",
    "profit = winnings - b2\n",
    "percent_profit = profit / free_bet\n",
    "plt.contourf(aa, bb, percent_profit,levels=np.arange(0,1.1,0.001), cmap='jet')\n",
    "plt.colorbar(label='$\\\\frac{Profit}{Free Bet}$')\n",
    "plt.xlabel('Odds Side 1')\n",
    "plt.ylabel('Odds Side 2')\n",
    "plt.grid()"
   ]
  }
 ],
 "metadata": {
  "interpreter": {
   "hash": "fb09eeecfd45eccabe7e5b1eb7a74311dd30e1e06940436a5cc9d56ce3917105"
  },
  "kernelspec": {
   "display_name": "Python 3.8.10 64-bit ('.venv': venv)",
   "language": "python",
   "name": "python3"
  },
  "language_info": {
   "codemirror_mode": {
    "name": "ipython",
    "version": 3
   },
   "file_extension": ".py",
   "mimetype": "text/x-python",
   "name": "python",
   "nbconvert_exporter": "python",
   "pygments_lexer": "ipython3",
   "version": "3.8.10"
  },
  "orig_nbformat": 4
 },
 "nbformat": 4,
 "nbformat_minor": 2
}
