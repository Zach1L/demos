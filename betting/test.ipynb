{
 "cells": [
  {
   "cell_type": "code",
   "execution_count": null,
   "metadata": {},
   "outputs": [],
   "source": [
    "import re\n",
    "import urllib.request\n",
    "import json\n",
    "import numpy as np\n",
    "import pandas as pd\n",
    "import re\n",
    "\n",
    "#Read Data in From DraftKings\n",
    "url = \"https://sportsbook.draftkings.com/api/odds/v1/leagues/3/offers/gamelines.json\"\n",
    "request = urllib.request.Request(url)\n",
    "page = urllib.request.urlopen(request).read()\n",
    "b = json.loads(page)\n",
    "b['errorStatus']\n"
   ]
  },
  {
   "cell_type": "code",
   "execution_count": null,
   "metadata": {},
   "outputs": [],
   "source": [
    "url = \"https://sportsbook.draftkings.com/api/odds/v1/leagues/\"\n",
    "request = urllib.request.Request(url)\n",
    "\n",
    "page = urllib.request.urlopen(request).read()\n",
    "b = json.loads(page)\n",
    "\n",
    "league_df = pd.json_normalize(b, record_path =['leagues'])\n",
    "print(league_df.head())"
   ]
  },
  {
   "cell_type": "code",
   "execution_count": null,
   "metadata": {},
   "outputs": [],
   "source": [
    "#Read Data in From DraftKings\n",
    "url = \"https://sportsbook.draftkings.com/api/odds/v1/leagues/3/offers/gamelines.json\"\n",
    "request = urllib.request.Request(url)\n",
    "page = urllib.request.urlopen(request).read()\n",
    "b = json.loads(page)\n",
    "b['errorStatus']\n",
    "'errorStatus' in b.keys()"
   ]
  },
  {
   "cell_type": "code",
   "execution_count": null,
   "metadata": {},
   "outputs": [],
   "source": [
    "ct = 0\n",
    "print(len(league_df[league_df['sportName']=='Soccer']))\n",
    "\n",
    "for i in [88670607]:# league_df.loc[league_df['sportName']=='Soccer', 'leagueId']:\n",
    "    url = f\"https://sportsbook.draftkings.com/api/odds/v1/leagues/{i}/offers/gamelines.json\"\n",
    "    request = urllib.request.Request(url)\n",
    "    page = urllib.request.urlopen(request).read()\n",
    "    b = json.loads(page)\n",
    "    if 'errorStatus' in b.keys():\n",
    "        ct += 1\n",
    "b = json.loads(page)"
   ]
  },
  {
   "cell_type": "code",
   "execution_count": null,
   "metadata": {},
   "outputs": [],
   "source": [
    "raw_data = pd.json_normalize(data=b['events'], meta=['name', 'startDate', ['offers','id'], ['offers','label']],record_path=['offers', 'outcomes'])\n",
    "data = raw_data"
   ]
  },
  {
   "cell_type": "code",
   "execution_count": null,
   "metadata": {},
   "outputs": [],
   "source": [
    "# Group bet ID\n",
    "data['same_bet'] = data['id'].apply(lambda x:''.join(re.split('P|N', x.split('_')[-2])))\n",
    "# Mathematically Sensible Odds\n",
    "data['odd_math'] = data['oddsDecimal'] - 1.0\n",
    "# Seed Fields\n",
    "data['bet1'] = 100.0 \n",
    "data['bet2_30boost_on_pos'] = np.nan\n",
    "data['profit_1'] = np.nan\n",
    "data['profit_2'] = np.nan\n",
    "data['good_bet'] = False\n",
    "data['min_boost_to_positive'] = np.nan\n",
    "data['min_boost_to_negitive'] = np.nan"
   ]
  },
  {
   "cell_type": "markdown",
   "metadata": {},
   "source": [
    "Profit Must be greater than 0 on both sides  \n",
    "$B_1 + B_1O_1 -B_1- B_2 >= 0$  \n",
    "$B_2 +B_2O_2-B1-B2 >=0$\n",
    "\n",
    "$B_1O_1 - B_2 = B_2O_2 -B_1$\n",
    "\n",
    "\n",
    "$\\large\n",
    "B_2 = \\frac{B_1(O_1 + 1)}{O_2 + 1}\n",
    "$\n",
    "\n",
    "Subject to $B_1 + B_1O_1 - B_2 >= 0$  \n",
    "\n",
    "Sub in $B_2$\n",
    "\n",
    "$\\large\n",
    "B_1O_1 >= \\frac{B_1(O_1 + 1)}{O_2 + 1\n",
    "}$\n",
    "\n",
    "$\\large\n",
    "\\frac{O_1}{O_1 + 1} >= \\frac{1}{O_2 + 1}\n",
    "$\n",
    "\n",
    "\n",
    "What boost $x$ to $O_1$ will satistfy this inequality?\n",
    "\n",
    "$\\large\n",
    "\\frac{O_1 + x}{O_1 + x + 1} >= \\frac{1}{O_2 + 1}\n",
    "$\n",
    "\n",
    "\n",
    "$\\large\n",
    "x = \\frac{1}{O_2} - O_1\n",
    "$\n",
    "\n",
    "\n"
   ]
  },
  {
   "cell_type": "code",
   "execution_count": null,
   "metadata": {},
   "outputs": [],
   "source": [
    "# https://www.wolframalpha.com/input/?i=%28a%2Bx%29+%2F+%28a%2B1%2Bx%29+%3D+1+%2F%28b%2B1%29++for+x\n",
    "for bet in data['same_bet'].unique():\n",
    "    mask = data['same_bet'] == bet\n",
    "    c = data[mask]\n",
    "    if len(c) ==2:\n",
    "        data.loc[mask,'min_boost_to_positive'] = 1/c['odd_math'].min() - c['odd_math'].max()\n",
    "        data.loc[mask,'min_boost_to_negitive'] = 1/c['odd_math'].max() - c['odd_math'].min()\n",
    "\n",
    "        data.loc[mask,'bet2_30boost_on_pos'] = c['bet1'].mean() * (c['odd_math'].max() + 0.30) / (c['odd_math'].min() + 1)\n",
    "        data.loc[mask,'profit_1'] =  c['bet1'].mean() + c['bet1'].mean() + (c['odd_math'].max() + 0.30)\n",
    "        data.loc[mask,'profit_2'] =  data.loc[mask,'bet2_30boost_on_pos'] + data.loc[mask,'bet2_30boost_on_pos'] + (c['odd_math'].min())"
   ]
  },
  {
   "cell_type": "code",
   "execution_count": null,
   "metadata": {},
   "outputs": [],
   "source": [
    "# Assume 30 Percent Boost\n",
    "\n",
    "\n",
    "\n",
    "data1 = data[abs(data['min_boost_to_positive'])<1]\n",
    "data1.to_csv('sample.csv')"
   ]
  },
  {
   "cell_type": "markdown",
   "metadata": {},
   "source": [
    "# how much you wiin - wagers\n",
    "# Group on Line \n",
    "# Bet 100 on Plus 100\n",
    "2-0ML62741785_1 - win\n",
    "2-0ML62741785_2 draw (not wanted)\n",
    "2-0ML62741785_3 - loss\n"
   ]
  },
  {
   "cell_type": "code",
   "execution_count": null,
   "metadata": {},
   "outputs": [],
   "source": []
  },
  {
   "cell_type": "code",
   "execution_count": null,
   "metadata": {},
   "outputs": [],
   "source": []
  }
 ],
 "metadata": {
  "interpreter": {
   "hash": "fb09eeecfd45eccabe7e5b1eb7a74311dd30e1e06940436a5cc9d56ce3917105"
  },
  "kernelspec": {
   "display_name": "Python 3.8.10 64-bit ('.venv': venv)",
   "language": "python",
   "name": "python3"
  },
  "language_info": {
   "codemirror_mode": {
    "name": "ipython",
    "version": 3
   },
   "file_extension": ".py",
   "mimetype": "text/x-python",
   "name": "python",
   "nbconvert_exporter": "python",
   "pygments_lexer": "ipython3",
   "version": "3.8.10"
  },
  "orig_nbformat": 4
 },
 "nbformat": 4,
 "nbformat_minor": 2
}
