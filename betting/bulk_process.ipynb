{
 "cells": [
  {
   "cell_type": "code",
   "execution_count": null,
   "metadata": {},
   "outputs": [],
   "source": [
    "import process_data\n",
    "import json\n",
    "import re\n",
    "import urllib.request\n",
    "import json\n",
    "import numpy as np\n",
    "import pandas as pd\n",
    "import re\n"
   ]
  },
  {
   "cell_type": "code",
   "execution_count": null,
   "metadata": {},
   "outputs": [],
   "source": [
    "# Grab All Leagues on Draft Kings\n",
    "url = \"https://sportsbook.draftkings.com/api/odds/v1/leagues/\"\n",
    "request = urllib.request.Request(url)\n",
    "\n",
    "page = urllib.request.urlopen(request).read()\n",
    "b = json.loads(page)\n",
    "\n",
    "league_df = pd.json_normalize(b, record_path =['leagues'])\n"
   ]
  },
  {
   "cell_type": "code",
   "execution_count": null,
   "metadata": {},
   "outputs": [],
   "source": [
    "json_ls = []\n",
    "\n",
    "ct = 0\n",
    "total_leagues=len(league_df[league_df['sportName']=='Soccer'])\n",
    "\n",
    "for i in league_df.loc[league_df['sportName']=='Soccer', 'leagueId']:\n",
    "    ct += 1\n",
    "    url = f\"https://sportsbook.draftkings.com/api/odds/v1/leagues/{i}/offers/gamelines.json\"\n",
    "    request = urllib.request.Request(url)\n",
    "    page = urllib.request.urlopen(request).read()\n",
    "    b = json.loads(page)\n",
    "    if 'errorStatus' in b.keys():\n",
    "        pass\n",
    "    else:\n",
    "        print(f'Retrieving {ct} of {total_leagues}. League ID {i}')\n",
    "        json_ls.append(b)\n",
    "\n"
   ]
  },
  {
   "cell_type": "code",
   "execution_count": null,
   "metadata": {},
   "outputs": [],
   "source": [
    "df_ls = []\n",
    "[ df_ls.append(process_data.process_betting_data(json_data=json_data) )for json_data in json_ls]\n",
    "buld_data = pd.concat(df_ls)"
   ]
  },
  {
   "cell_type": "code",
   "execution_count": null,
   "metadata": {},
   "outputs": [],
   "source": [
    "buld_data.to_csv('All_Soccer12.csv')"
   ]
  },
  {
   "cell_type": "code",
   "execution_count": null,
   "metadata": {},
   "outputs": [],
   "source": [
    "import matplotlib.pyplot as plt\n",
    "%matplotlib inline\n",
    "plt.hist(buld_data.loc[buld_data['min_boost_to_positive'] < 2,'min_boost_to_positive'], bins=50);\n",
    "plt.figure()\n",
    "plt.hist(buld_data.loc[buld_data['bet2_30boost_on_pos'] < 500,'bet2_30boost_on_pos'], bins=50);\n"
   ]
  },
  {
   "cell_type": "code",
   "execution_count": null,
   "metadata": {},
   "outputs": [],
   "source": [
    "buld_data['winnings1']"
   ]
  }
 ],
 "metadata": {
  "interpreter": {
   "hash": "4348e79c2bd9c02b7f714402b12cc529f9a5d25cff87ecd2d61354c96eff1c81"
  },
  "kernelspec": {
   "display_name": "Python 3.8.10 64-bit ('.env': venv)",
   "language": "python",
   "name": "python3"
  },
  "language_info": {
   "codemirror_mode": {
    "name": "ipython",
    "version": 3
   },
   "file_extension": ".py",
   "mimetype": "text/x-python",
   "name": "python",
   "nbconvert_exporter": "python",
   "pygments_lexer": "ipython3",
   "version": "3.8.10"
  },
  "orig_nbformat": 4
 },
 "nbformat": 4,
 "nbformat_minor": 2
}
