{
 "cells": [
  {
   "cell_type": "code",
   "execution_count": null,
   "metadata": {},
   "outputs": [],
   "source": [
    "import numpy as np\n",
    "import elements\n",
    "import matplotlib.pyplot as plt\n",
    "%matplotlib inline\n"
   ]
  },
  {
   "cell_type": "code",
   "execution_count": null,
   "metadata": {},
   "outputs": [],
   "source": [
    "cb = elements.central_body()\n",
    "unit_length = 3000e3 # 10 km\n",
    "cable_length = 100000e3\n",
    "# Theorize there are numerical percision errors at low altitudes\n",
    "phys_prop = elements.link_physical_properties(unit_length=unit_length, diamter=1, density=1300)\n",
    "lengths = np.arange(cable_length, 10000, -unit_length)\n",
    "links = []\n",
    "\n",
    "for i, l in enumerate(lengths):\n",
    "    links.append(elements.link(np.array([l -(unit_length/2),0,0],dtype=np.float64), central_body=cb, n=i, phys_prop=phys_prop))\n",
    "    print(np.array([l -(unit_length/2),0,0]))\n",
    "# plt.figure(figsize=(9,9))\n",
    "# plt.axis('equal')\n",
    "# th = np.linspace(0, 2 * np.pi)\n",
    "# plt.plot(6378 * np.cos(th), 6378 * np.sin(th), 'g-')\n",
    "# plt.plot(39000 * np.cos(th), 39000 * np.sin(th), 'r--')\n",
    "# plt.plot(36000 * np.cos(th), 36000 * np.sin(th), 'b--')\n",
    "# [plt.plot(link.pos_ECI[0] / 1000, link.pos_ECI[1] / 1000, 'k.') for link in links]\n",
    "# # for dt in [1] * 180:\n",
    "#     [link.propogate_motion(dt) for link in links]\n",
    "# [plt.plot(link.pos_ECI[0] / 1000, link.pos_ECI[1] / 1000, 'g.') for link in links]\n",
    "\n",
    "\n",
    "plt.figure()\n",
    "\n",
    "anchor = elements.space_anchor(np.array([cable_length,0,0],dtype=np.float64), central_body=cb, mass=0e3)\n",
    "anchor.calculate_tension()\n",
    "links.insert(0, anchor)\n",
    "tensions = [np.linalg.norm(anchor.tension)]\n",
    "radius = [np.linalg.norm(anchor.pos_ECI)/ 42300E3]\n",
    "for i, link in enumerate(links[1::]):\n",
    "    link.calculate_tension(links[i].tension)\n",
    "    tensions.append(np.linalg.norm(link.tension))\n",
    "    radius.append(np.linalg.norm(link.pos_ECI) / 42300E3)\n",
    "plt.plot(radius, tensions, '.')\n",
    "\n",
    "\n",
    "# plt.figure()\n",
    "# R = np.linspace(6378e3,cable_length)\n",
    "# T = cb.mu * phys_prop.density * ( (1/6378e3) - (3 / (2 * R)) + ((6378e3 ** 2) / (2 * R **3 )))\n",
    "# plt.plot(R / 36000e3,T)\n"
   ]
  },
  {
   "cell_type": "code",
   "execution_count": null,
   "metadata": {},
   "outputs": [],
   "source": [
    "pass\n",
    "link1 = links[1]\n",
    "print(link1.calculate_gravity_force(link1.phys_prop.mass) / link1.phys_prop.mass)\n",
    "print(link1.acl_ECI)\n"
   ]
  },
  {
   "cell_type": "code",
   "execution_count": null,
   "metadata": {},
   "outputs": [],
   "source": [
    "link.tension"
   ]
  },
  {
   "cell_type": "code",
   "execution_count": null,
   "metadata": {},
   "outputs": [],
   "source": [
    "link.acl_ECI"
   ]
  },
  {
   "cell_type": "code",
   "execution_count": null,
   "metadata": {},
   "outputs": [],
   "source": [
    "link.calculate_gravity_force(mass=link.phys_prop.mass)"
   ]
  },
  {
   "cell_type": "code",
   "execution_count": null,
   "metadata": {},
   "outputs": [],
   "source": [
    "link.pos_ECI * phys_prop.mass / link.calculate_gravity_force(mass=link.phys_prop.mass)"
   ]
  },
  {
   "cell_type": "code",
   "execution_count": null,
   "metadata": {},
   "outputs": [],
   "source": []
  }
 ],
 "metadata": {
  "interpreter": {
   "hash": "4348e79c2bd9c02b7f714402b12cc529f9a5d25cff87ecd2d61354c96eff1c81"
  },
  "kernelspec": {
   "display_name": "Python 3.8.10 64-bit ('.env': venv)",
   "language": "python",
   "name": "python3"
  },
  "language_info": {
   "codemirror_mode": {
    "name": "ipython",
    "version": 3
   },
   "file_extension": ".py",
   "mimetype": "text/x-python",
   "name": "python",
   "nbconvert_exporter": "python",
   "pygments_lexer": "ipython3",
   "version": "3.8.10"
  },
  "orig_nbformat": 4
 },
 "nbformat": 4,
 "nbformat_minor": 2
}
