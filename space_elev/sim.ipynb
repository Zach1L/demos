{
 "cells": [
  {
   "cell_type": "code",
   "execution_count": null,
   "metadata": {},
   "outputs": [],
   "source": [
    "import numpy as np\n",
    "import elements\n",
    "import matplotlib.pyplot as plt\n",
    "%matplotlib inline"
   ]
  },
  {
   "cell_type": "code",
   "execution_count": null,
   "metadata": {},
   "outputs": [],
   "source": [
    "# Set Earth As Central Body\n",
    "# Length Resolution of 100 km\n",
    "cb = elements.central_body()\n",
    "unit_length = 1000e3 # To course for good results, but quick!\n",
    "geo_orbit = 42000e3\n",
    "phys_prop = elements.link_physical_properties(unit_length=unit_length, diamter=20, density=7900)\n",
    "cable_mass_geo = geo_orbit * phys_prop.cross_sectional_area * phys_prop.density"
   ]
  },
  {
   "cell_type": "markdown",
   "metadata": {},
   "source": [
    "# Variation on Cable Length"
   ]
  },
  {
   "cell_type": "code",
   "execution_count": null,
   "metadata": {},
   "outputs": [],
   "source": [
    "plt.figure(figsize=(9,9))\n",
    "plt.grid()\n",
    "anchor_mass = 0\n",
    "for cable_length in np.arange(0.2,4,0.5)*geo_orbit:\n",
    "    ev = elements.space_evelator(cable_length=cable_length, phys_prop=phys_prop, anchor_mass=anchor_mass)\n",
    "    plt.plot(ev.radii[:,0], ev.tensions[:,0], '-', label=f'{cable_length/geo_orbit:1.1f} ')\n",
    "plt.legend(title='$\\\\frac{cable_length}{Geo}$', ncol=2)"
   ]
  },
  {
   "cell_type": "markdown",
   "metadata": {},
   "source": [
    "# Variation on Anchor Mass"
   ]
  },
  {
   "cell_type": "code",
   "execution_count": null,
   "metadata": {},
   "outputs": [],
   "source": [
    "plt.figure(figsize=(9,9))\n",
    "plt.grid()\n",
    "cable_length = 60000e3\n",
    "for anchor_mass in np.arange(0,1.6,0.1) * cable_mass_geo:\n",
    "    ev = elements.space_evelator(cable_length=cable_length, phys_prop=phys_prop, anchor_mass=anchor_mass)\n",
    "    plt.plot(ev.radii[:,0], ev.tensions[:,0], '-', label=f'{anchor_mass/ev.cable_mass:1.1f}')\n",
    "plt.legend(title='$\\\\frac{AnchorMass}{CableMass}$', ncol=2)\n"
   ]
  },
  {
   "cell_type": "code",
   "execution_count": null,
   "metadata": {},
   "outputs": [],
   "source": [
    "cable_lengths =  np.arange(1.0, 2.5, 0.05) * geo_orbit\n",
    "aprox_anchor_masses = cable_lengths * phys_prop.cross_sectional_area * phys_prop.density\n",
    "anchor_masses = np.arange(cable_mass_geo * 0,  cable_mass_geo* 2.1, 0.05*cable_mass_geo)\n",
    "\n",
    "max_tensile_stress = np.zeros((len(cable_lengths),len(anchor_masses)))\n",
    "max_compressive_stress = np.zeros((len(cable_lengths),len(anchor_masses)))\n",
    "\n",
    "for i, cable_length in enumerate(cable_lengths):\n",
    "    for ii, anchor_mass in enumerate(anchor_masses):\n",
    "        ev = elements.space_evelator(cable_length=cable_length, phys_prop=phys_prop, anchor_mass=anchor_mass)\n",
    "        max_tensile_stress[i,ii] = ev.tensions.max() / phys_prop.cross_sectional_area\n",
    "        max_compressive_stress[i,ii] = ev.tensions.min() / phys_prop.cross_sectional_area"
   ]
  },
  {
   "cell_type": "code",
   "execution_count": null,
   "metadata": {},
   "outputs": [],
   "source": [
    "fig, ax = plt.subplots(nrows=1, ncols=2, figsize=(16,9), sharex=True, sharey=True)\n",
    "\n",
    "massmass, lenlen = np.meshgrid(anchor_masses, cable_lengths)\n",
    "a = ax[0].pcolormesh(massmass / cable_mass_geo, lenlen / geo_orbit, max_tensile_stress / 1e9, shading='nearest')\n",
    "ax[0].set_title('Max Tension GPa')\n",
    "ax[0].set_ylabel('Cable Length / Geo Orbit')\n",
    "ax[0].set_xlabel('Mass / Geo Cable Mass')\n",
    "b = ax[1].pcolormesh(massmass / cable_mass_geo, lenlen / geo_orbit, abs(max_compressive_stress / 1e9), shading='nearest')\n",
    "ax[1].set_title('Max Compression GPa')\n",
    "fig.colorbar(a, ax=ax[0], label='Tension Gpa')\n",
    "fig.colorbar(b, ax=ax[1], label='Compression Gpa')"
   ]
  }
 ],
 "metadata": {
  "interpreter": {
   "hash": "4348e79c2bd9c02b7f714402b12cc529f9a5d25cff87ecd2d61354c96eff1c81"
  },
  "kernelspec": {
   "display_name": "Python 3.8.10 64-bit ('.env': venv)",
   "language": "python",
   "name": "python3"
  },
  "language_info": {
   "codemirror_mode": {
    "name": "ipython",
    "version": 3
   },
   "file_extension": ".py",
   "mimetype": "text/x-python",
   "name": "python",
   "nbconvert_exporter": "python",
   "pygments_lexer": "ipython3",
   "version": "3.8.10"
  },
  "orig_nbformat": 4
 },
 "nbformat": 4,
 "nbformat_minor": 2
}
