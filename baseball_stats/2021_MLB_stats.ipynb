{
 "cells": [
  {
   "cell_type": "markdown",
   "metadata": {},
   "source": [
    "## Baseball Stats"
   ]
  },
  {
   "cell_type": "code",
   "execution_count": 1,
   "metadata": {},
   "outputs": [],
   "source": [
    "import pandas as pd\n",
    "import sqlite3 as sql\n",
    "import scipy\n",
    "\n",
    "from fangraphs import fangraph\n",
    "import bb_stat_utils"
   ]
  },
  {
   "cell_type": "code",
   "execution_count": null,
   "metadata": {},
   "outputs": [],
   "source": [
    "# Run this cell to generate the SQLLite DB. \n",
    "# This may take a while (~30 mins)\n",
    "fangraph.generate_sqllite_tables()"
   ]
  },
  {
   "cell_type": "code",
   "execution_count": 4,
   "metadata": {},
   "outputs": [],
   "source": [
    "# Point to the SQLLTIE Db\n",
    "db_path = '/home/zach/dev/demos/2021_Baseball-final.db'\n",
    "conn = sql.connect(db_path)"
   ]
  },
  {
   "cell_type": "markdown",
   "metadata": {},
   "source": [
    "# Sanitizing Data\n",
    "The batting and pitching data is individual game level stats. \n",
    "Here we cast all basic stats as integers, as they are all strings in the database.\n",
    "Note the casting will error and be ignored, (ie do nothing) on non integer data, such as batting average, ERA, slugging percentage etc.\n",
    "These statistics, when of interest, are rederived later, from the raw data. \n",
    "We also turn the date string into a much more useful datetime object. \n",
    "\n",
    "## A Note on Innings Pitched\n",
    "For some reason, baseball stores fractional innings as .1 = 1/3 . Similiar to a base 3 system, but only for the decimal. so 3.1 innings is 3 1/3 innings in base 10. \n"
   ]
  },
  {
   "cell_type": "code",
   "execution_count": 5,
   "metadata": {},
   "outputs": [],
   "source": [
    "# Clean Batting Data\n",
    "batting_df = pd.read_sql('SELECT * FROM bat', con=conn)\n",
    "for col in batting_df.columns:\n",
    "    batting_df[col] = batting_df[col].astype('int', errors='ignore')\n",
    "batting_df_sum = batting_df.groupby('name').sum()\n",
    "\n",
    "batting_df['Datetime'] = pd.to_datetime(batting_df['Date'], format=\"%Y-%m-%d\")"
   ]
  },
  {
   "cell_type": "code",
   "execution_count": 6,
   "metadata": {},
   "outputs": [],
   "source": [
    "# Clean Pitching Data\n",
    "pitching_df = pd.read_sql('SELECT * FROM pit', con=conn)\n",
    "for col in pitching_df.columns:\n",
    "    pitching_df[col] = pitching_df[col].astype('int', errors='ignore')\n",
    "\n",
    "pitching_df['IP'] = pitching_df['IP'].apply(lambda x: bb_stat_utils.IP_basis_conversion(x))\n",
    "pitching_df_sum = pitching_df.groupby('name').sum()\n",
    "pitching_df['Datetime'] = pd.to_datetime(pitching_df['Date'], format=\"%Y-%m-%d\")"
   ]
  },
  {
   "cell_type": "code",
   "execution_count": 7,
   "metadata": {},
   "outputs": [],
   "source": [
    "# Calculate 'advanced', non integer metrics for the full season\n",
    "bb_stat_utils.calc_SLUG_TOT(batting_df_sum)\n",
    "bb_stat_utils.calc_WHIP_TOT(pitching_df_sum)"
   ]
  },
  {
   "cell_type": "markdown",
   "metadata": {},
   "source": [
    "# TOPSIS"
   ]
  },
  {
   "cell_type": "code",
   "execution_count": null,
   "metadata": {},
   "outputs": [],
   "source": [
    "cats = ['HR', 'RBI', 'OB_TOT', 'SB', 'SLUG_TOT']\n",
    "cats_power = {key: 1.0 for key in cats}\n",
    "bb_stat_utils.topsis(df=batting_df, cats=cats, cats_power=cats_power,  csv_name='bat_rank_bbref.csv')\n",
    "\n",
    "cats = ['ER', 'QS_STAND', 'SV', 'WH_TOT', 'SO', 'IP']\n",
    "cats_power = {'ER': -1.0, 'QS_STAND': 1.0, 'SV': 1.0, 'WH_TOT': -1.0, 'SO': 1.0, 'IP' : 1.0}\n",
    "bb_stat_utils.topsis(df=pitching_df, cats=cats, cats_power=cats_power, csv_name='pitch_rank_bbref.csv')\n"
   ]
  }
 ],
 "metadata": {
  "interpreter": {
   "hash": "4348e79c2bd9c02b7f714402b12cc529f9a5d25cff87ecd2d61354c96eff1c81"
  },
  "kernelspec": {
   "display_name": "Python 3.8.10 64-bit ('.env': venv)",
   "name": "python3"
  },
  "language_info": {
   "codemirror_mode": {
    "name": "ipython",
    "version": 3
   },
   "file_extension": ".py",
   "mimetype": "text/x-python",
   "name": "python",
   "nbconvert_exporter": "python",
   "pygments_lexer": "ipython3",
   "version": "3.8.10"
  },
  "orig_nbformat": 4
 },
 "nbformat": 4,
 "nbformat_minor": 2
}
