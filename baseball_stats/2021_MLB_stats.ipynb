{
 "cells": [
  {
   "cell_type": "markdown",
   "metadata": {},
   "source": [
    "## Baseball Stats"
   ]
  },
  {
   "cell_type": "code",
   "execution_count": null,
   "metadata": {},
   "outputs": [],
   "source": [
    "import os\n",
    "import sqlite3 as sql\n",
    "import logging\n",
    "\n",
    "import pandas as pd\n",
    "import numpy as np\n",
    "\n",
    "from scrapers import fangraph\n",
    "import bb_stat_utils\n",
    "\n",
    "logging.basicConfig(format='%(asctime)s - %(levelname)s: %(message)s', level=logging.INFO)\n",
    "from IPython.display import display, HTML\n",
    "import matplotlib.pyplot as plt\n",
    "%matplotlib inline\n"
   ]
  },
  {
   "cell_type": "code",
   "execution_count": null,
   "metadata": {},
   "outputs": [],
   "source": [
    "# Point to the SQLLTIE Db\n",
    "db_path = r'/home/zach/dev/demos/2021_Baseball_PURE.db'\n",
    "if not os.path.exists(db_path):\n",
    "    #This may take a while (~30 mins)\n",
    "    fangraphscraper = fangraph.FangraphScraper(db_path)\n",
    "    fangraphscraper.generate_sqllite_tables()\n",
    "conn = sql.connect(db_path)"
   ]
  },
  {
   "cell_type": "markdown",
   "metadata": {},
   "source": [
    "# SQL Query\n",
    "Since the data is stored on a game by game basis, it must be aggregated per player to be used from a full 2021 season perspective. \n",
    "A query in the following style can perform this:\n",
    "``` \n",
    "SELECT \n",
    "name, \n",
    "id, \n",
    "SUM(\"AB\"),\n",
    "SUM(\"HR\"), \n",
    "SUM(\"RBI\")\n",
    "FROM bat \n",
    "WHERE name like 'tatis'\n",
    "GROUP BY name, id;\n",
    "``` \n",
    "\n",
    "Note the critical inclusion of a `GROUP BY` which groups y player name and ID (the combination of which is unique in this db) and `SUM` which takes the sum of the specified catagory across the grouping. \n",
    "\n",
    "See a DB schema for pitching and batting by running the cell below"
   ]
  },
  {
   "cell_type": "code",
   "execution_count": null,
   "metadata": {},
   "outputs": [],
   "source": [
    "pd.read_sql(\"pragma table_info('BAT')\", con=conn)"
   ]
  },
  {
   "cell_type": "code",
   "execution_count": null,
   "metadata": {},
   "outputs": [],
   "source": [
    "pd.read_sql(\"pragma table_info('PIT')\", con=conn)"
   ]
  },
  {
   "cell_type": "markdown",
   "metadata": {},
   "source": [
    "### Spot Check Batting Data Quality \n",
    "According to [this baseball reference link](https://www.baseball-reference.com/players/t/tatisfe02.shtml) Tatis had the following select stats in 2021 Regular Season\n",
    "\n",
    "| Stat  |Value |\n",
    "| ------| -----|\n",
    "| AB    | 478|\n",
    "| HR    | 42     |\n",
    "| RBI   | 97 |\n",
    "\n",
    "Running the code below, our data set agrees\n"
   ]
  },
  {
   "cell_type": "code",
   "execution_count": null,
   "metadata": {},
   "outputs": [],
   "source": [
    "s = \"\"\"\n",
    "SELECT \n",
    "name, \n",
    "id, \n",
    "SUM(\"AB\"),\n",
    "SUM(\"HR\"), \n",
    "SUM(\"RBI\")\n",
    "FROM bat \n",
    "WHERE name like '%tatis%'\n",
    "GROUP BY name, id;\n",
    "\"\"\"\n",
    "\n",
    "tatis_df = pd.read_sql(s, con=conn)\n",
    "tatis_df\n"
   ]
  },
  {
   "cell_type": "markdown",
   "metadata": {},
   "source": [
    "### Spot Check Pitching Data Quality \n",
    "According to [this baseball reference link](https://www.baseball-reference.com/players/d/darviyu01.shtml) Yu Darvish had the following select stats in 2021 Regular Season\n",
    "\n",
    "| Stat  |Value |\n",
    "| ------| -----|\n",
    "| GS    | 30|\n",
    "| IP    | 166.1     | \n",
    "| H   | 138 |\n",
    "|ERA | 4.22|\n",
    "\n",
    "Running the code below, our data set agrees, Note that 0.1 is equivalent to 0.333 for innings pitched, and that ERA is a derived parameter. (ER/(IP/9))\n"
   ]
  },
  {
   "cell_type": "code",
   "execution_count": null,
   "metadata": {},
   "outputs": [],
   "source": [
    "s = \"\"\"\n",
    "SELECT \n",
    "name, \n",
    "id, \n",
    "SUM(\"GS\"),\n",
    "SUM(\"IP\"), \n",
    "SUM(\"ER\"), \n",
    "SUM(\"H\")\n",
    "FROM pit \n",
    "WHERE name like '%darvish%'\n",
    "GROUP BY name, id;\n",
    "\"\"\"\n",
    "darvish_df = pd.read_sql(s, con=conn)\n",
    "print(darvish_df)\n",
    "darvish_df['ERA'] = darvish_df['SUM(\"ER\")'] / ( darvish_df['SUM(\"IP\")'] / 9)\n",
    "darvish_df\n"
   ]
  },
  {
   "cell_type": "markdown",
   "metadata": {},
   "source": [
    "Nice, our bespoke data set agrees with an indepedent data set on baseball reference! Now we can do use to draft the ultimate FBB team!"
   ]
  },
  {
   "cell_type": "markdown",
   "metadata": {},
   "source": [
    "# TOPSIS - Drafting the ideal FBB Team\n",
    "We can use the [topsis alogrithm](https://en.wikipedia.org/wiki/TOPSIS) (often used in design probems) to decide who is the ideal candidate for a given Baseball position wheile drafting our team.\n",
    "\n",
    "TOPSIS relies on comparing numerical, what appears uncompareable. For example TOPSIS allows us to compare a player with 32 HRs and 11 SB to a player with 15 HR and 21 SB. \n",
    "\n",
    "As shown in the example above, Roto scoring weights all categories, equally, so our TOPSIS algorithm will use equal weights for all categories. As discussed below this does not imply that stolen bases and home runs are equally as common. \n",
    "\n",
    "TOPSIS compares all entries (players in this case) and determines which player have the lowest distance from ideal. \n",
    "\n",
    "##### Catagorical Rarity - Modification to TOPSIS\n",
    "The TOPSIS algortithm presented here has actually been slightly modified from the text book definition to account for scarcity, for example RBIs being more common than HR. To see this look into the `topsis` function itself and note the second normalization step not typically present in textbook definitions\n",
    "\n",
    "## First Cut - No Knowledge of Team Make Up\n",
    "The analysis below shows the rankings and relative values of all players for the given position (or in pitching just all pitchers)\n",
    "\n",
    "The offsensive categories are standard in FBB and are the catagories used in the author's league. (OBP- On Base Percentage and SLUG -Slugging Percentage are derived metrics)\n",
    "\n"
   ]
  },
  {
   "cell_type": "code",
   "execution_count": 22,
   "metadata": {},
   "outputs": [],
   "source": [
    "bat_cats = ['HR', 'RBI', 'SB','OBP', 'SLG']\n",
    "bat_cats_power = {key: 1.0 for key in bat_cats} # This should be negative if a lower value is desired (ie offesnive strikeouts)\n",
    "unique_pos = ['fDH', 'fC', 'f1B', 'F2B', 'fSS', 'f3B', 'fPH', 'fLF', 'fCF', 'fRF']\n",
    "\n",
    "bat_raw_cats = ['HR', 'RBI', 'SB', '1B', '2B', '3B', 'HBP', 'BB']\n",
    "bat_rename_cats =  {f'SUM(\"{cat}\")': cat for cat in bat_raw_cats + unique_pos}\n",
    "\n",
    "\n",
    "pit_cats = ['ER', 'QS_STAND', 'SV', 'WH', 'SO', 'IP'] # TODO would derive a true QS metric from definition\n",
    "pit_cats_power = {'ER': -1.0, 'QS_STAND': 1.0, 'SV': 1.0, 'WH': -1.0, 'SO': 1.0, 'IP' : 1.0}\n",
    "\n",
    "pit_raw_cats = ['ER', 'SV', 'SO', 'IP', 'BB', 'W', 'H', 'GS', 'L']\n",
    "pit_rename_cats =  {f'SUM(\"{cat}\")': cat for cat in pit_raw_cats}\n"
   ]
  },
  {
   "cell_type": "code",
   "execution_count": null,
   "metadata": {},
   "outputs": [],
   "source": [
    "\n",
    "# Query independent of position\n",
    "# Only Keep players with greater than 20 appearances at the given position\n",
    "query = \\\n",
    "\"\"\"SELECT\n",
    "name,\n",
    "id,\n",
    "SUM(\"{0}\"),\n",
    "SUM(\"{1}\"),\n",
    "SUM(\"{2}\"),\n",
    "SUM(\"{3}\"),\n",
    "SUM(\"{4}\"),\n",
    "SUM(\"{5}\"),\n",
    "SUM(\"{6}\"),\n",
    "SUM(\"{7}\"),\n",
    "SUM(\"{8}\")\n",
    "FROM bat\n",
    "WHERE '{8}' > 1\n",
    "GROUP BY name, id\n",
    "HAVING SUM(\"{8}\")>20;\n",
    "\"\"\"\n",
    "\n",
    "for pos in unique_pos:\n",
    "    pos_df = pd.read_sql(query.format(*bat_raw_cats,pos), con=conn)\n",
    "    pos_df.rename(mapper=bat_rename_cats, axis=1, inplace=True)\n",
    "    bb_stat_utils.calc_SLG_OBP(pos_df)\n",
    "    if len(pos_df) > 0:\n",
    "        score_df = bb_stat_utils.topsis(df=pos_df, cats=bat_cats, cats_power=bat_cats_power,  csv_name=None)\n",
    "        bb_stat_utils.determine_pick_value(score_df)\n",
    "        display(HTML(f'<h1>{pos}</h1><b>' + score_df.iloc[:10][['name' ,  pos] + bat_cats + ['distance_from_ideals', 'improvement', 'pick_value']].to_html()+'<\\b>'))\n",
    "        \n",
    "        fig, ax = plt.subplots(nrows=2, ncols=1, figsize=(16,9))\n",
    "        fig.suptitle(pos)\n",
    "        ax[0].plot(score_df['distance_from_ideals'].values)\n",
    "        ax[0].set_ylabel('Distance From Ideal')\n",
    "        ax[1].hist(score_df['improvement'].values, bins=20)\n",
    "        ax[1].set_ylabel('Pick Value')\n",
    "        ax[0].grid()\n",
    "        ax[1].grid()        "
   ]
  },
  {
   "cell_type": "code",
   "execution_count": 26,
   "metadata": {},
   "outputs": [
    {
     "name": "stdout",
     "output_type": "stream",
     "text": [
      "              name     id  ER  SV   SO          IP  BB   W    H  GS   L\n",
      "0      aaron-ashby  23550  16   1   39   31.666667  12   3   25   4   2\n",
      "1     aaron-bummer  16258  22   2   75   56.333333  29   5   42   0   5\n",
      "2     aaron-civale  19479  53   0   99  124.333333  31  12  108  21   5\n",
      "3       aaron-loup  10343   6   0   57   56.666667  16   6   37   2   0\n",
      "4       aaron-nola  16149  93   0  223  180.666667  39   9  165  32   9\n",
      "..             ...    ...  ..  ..  ...         ...  ..  ..  ...  ..  ..\n",
      "558       zach-pop  20185  25   0   51   54.666667  24   1   54   0   0\n",
      "559  zach-thompson  16094  27   0   66   75.000000  28   3   63  14   7\n",
      "560   zack-greinke   1943  79   0  120  171.000000  36  11  164  29   6\n",
      "561   zack-littell  15823  20   2   63   61.666667  24   4   46   2   0\n",
      "562   zack-wheeler  10310  66   0  247  213.333333  46  14  169  32  10\n",
      "\n",
      "[563 rows x 11 columns]\n"
     ]
    },
    {
     "data": {
      "text/html": [
       "<h1>Pitching</h1><table border=\"1\" class=\"dataframe\">\n",
       "  <thead>\n",
       "    <tr style=\"text-align: right;\">\n",
       "      <th></th>\n",
       "      <th>name</th>\n",
       "      <th>ER</th>\n",
       "      <th>QS_STAND</th>\n",
       "      <th>SV</th>\n",
       "      <th>WH</th>\n",
       "      <th>SO</th>\n",
       "      <th>IP</th>\n",
       "      <th>distance_from_ideals</th>\n",
       "    </tr>\n",
       "  </thead>\n",
       "  <tbody>\n",
       "    <tr>\n",
       "      <th>291</th>\n",
       "      <td>josh-hader</td>\n",
       "      <td>8</td>\n",
       "      <td>0</td>\n",
       "      <td>34</td>\n",
       "      <td>49</td>\n",
       "      <td>102</td>\n",
       "      <td>58.666667</td>\n",
       "      <td>1.603155</td>\n",
       "    </tr>\n",
       "    <tr>\n",
       "      <th>374</th>\n",
       "      <td>max-scherzer</td>\n",
       "      <td>49</td>\n",
       "      <td>26</td>\n",
       "      <td>0</td>\n",
       "      <td>155</td>\n",
       "      <td>236</td>\n",
       "      <td>179.333333</td>\n",
       "      <td>1.613840</td>\n",
       "    </tr>\n",
       "    <tr>\n",
       "      <th>224</th>\n",
       "      <td>jacob-degrom</td>\n",
       "      <td>11</td>\n",
       "      <td>13</td>\n",
       "      <td>0</td>\n",
       "      <td>51</td>\n",
       "      <td>146</td>\n",
       "      <td>92.000000</td>\n",
       "      <td>1.622830</td>\n",
       "    </tr>\n",
       "    <tr>\n",
       "      <th>126</th>\n",
       "      <td>corbin-burnes</td>\n",
       "      <td>45</td>\n",
       "      <td>23</td>\n",
       "      <td>0</td>\n",
       "      <td>157</td>\n",
       "      <td>234</td>\n",
       "      <td>167.000000</td>\n",
       "      <td>1.627961</td>\n",
       "    </tr>\n",
       "    <tr>\n",
       "      <th>537</th>\n",
       "      <td>walker-buehler</td>\n",
       "      <td>57</td>\n",
       "      <td>29</td>\n",
       "      <td>0</td>\n",
       "      <td>201</td>\n",
       "      <td>212</td>\n",
       "      <td>207.666667</td>\n",
       "      <td>1.628640</td>\n",
       "    </tr>\n",
       "  </tbody>\n",
       "</table>"
      ],
      "text/plain": [
       "<IPython.core.display.HTML object>"
      ]
     },
     "metadata": {},
     "output_type": "display_data"
    }
   ],
   "source": [
    "query = \\\n",
    "\"\"\"SELECT\n",
    "name,\n",
    "id,\n",
    "SUM(\"{0}\"),\n",
    "SUM(\"{1}\"),\n",
    "SUM(\"{2}\"),\n",
    "SUM(\"{3}\"),\n",
    "SUM(\"{4}\"),\n",
    "SUM(\"{5}\"),\n",
    "SUM(\"{6}\"),\n",
    "SUM(\"{7}\"),\n",
    "SUM(\"{8}\")\n",
    "FROM pit\n",
    "GROUP BY name, id\n",
    "HAVING SUM(\"IP\")>20;\n",
    "\"\"\"\n",
    "\n",
    "pit_df = pd.read_sql(query.format(*pit_raw_cats), con=conn)\n",
    "pit_df.rename(mapper=pit_rename_cats, axis=1, inplace=True)\n",
    "\n",
    "bb_stat_utils.calc_WH(pit_df)\n",
    "score_df = bb_stat_utils.topsis(df=pit_df, cats=pit_cats, cats_power=pit_cats_power, csv_name=None)\n",
    "bb_stat_utils.determine_pick_value(score_df)\n",
    "\n",
    "display(HTML(f'<h1>Pitching</h1>' + score_df.iloc[:5][ ['name']+ pit_cats + ['distance_from_ideals']].to_html()))\n"
   ]
  },
  {
   "cell_type": "code",
   "execution_count": null,
   "metadata": {},
   "outputs": [],
   "source": [
    "pit_raw_cats"
   ]
  },
  {
   "cell_type": "code",
   "execution_count": null,
   "metadata": {},
   "outputs": [],
   "source": []
  }
 ],
 "metadata": {
  "interpreter": {
   "hash": "4348e79c2bd9c02b7f714402b12cc529f9a5d25cff87ecd2d61354c96eff1c81"
  },
  "kernelspec": {
   "display_name": "Python 3.8.10 64-bit ('.env': venv)",
   "name": "python3"
  },
  "language_info": {
   "codemirror_mode": {
    "name": "ipython",
    "version": 3
   },
   "file_extension": ".py",
   "mimetype": "text/x-python",
   "name": "python",
   "nbconvert_exporter": "python",
   "pygments_lexer": "ipython3",
   "version": "3.8.10"
  },
  "orig_nbformat": 4
 },
 "nbformat": 4,
 "nbformat_minor": 2
}
