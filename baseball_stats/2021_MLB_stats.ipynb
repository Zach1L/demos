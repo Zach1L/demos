{
 "cells": [
  {
   "cell_type": "markdown",
   "metadata": {},
   "source": [
    "## Baseball Stats"
   ]
  },
  {
   "cell_type": "code",
   "execution_count": null,
   "metadata": {},
   "outputs": [],
   "source": [
    "import pandas as pd\n",
    "import numpy as np\n",
    "import sqlite3 as sql\n",
    "from scipy import stats\n",
    "\n",
    "#from fangraphs import fangraph\n",
    "import bb_stat_utils\n",
    "from IPython.display import display, HTML\n",
    "\n",
    "import matplotlib.pyplot as plt\n",
    "%matplotlib inline\n"
   ]
  },
  {
   "cell_type": "code",
   "execution_count": null,
   "metadata": {},
   "outputs": [],
   "source": [
    "# Run this cell to generate the SQLLite DB. \n",
    "# This may take a while (~30 mins)\n",
    "#fangraph.generate_sqllite_tables()"
   ]
  },
  {
   "cell_type": "code",
   "execution_count": null,
   "metadata": {},
   "outputs": [],
   "source": [
    "# Point to the SQLLTIE Db\n",
    "db_path = r'/home/zach/dev/demos/baseball_stats/2021_Baseball-final.db'\n",
    "conn = sql.connect(db_path)"
   ]
  },
  {
   "cell_type": "markdown",
   "metadata": {},
   "source": [
    "# Sanitizing Data\n",
    "The batting and pitching data is individual game level stats. \n",
    "Here we cast all basic stats as integers, as they are all strings in the database.\n",
    "Note the casting will error and be ignored, (ie do nothing) on non integer data, such as batting average, ERA, slugging percentage etc.\n",
    "These statistics, when of interest, are rederived later, from the raw data. \n",
    "We also turn the date string into a much more useful datetime object. \n",
    "\n",
    "## A Note on Innings Pitched\n",
    "For some reason, baseball stores fractional innings as .1 = 1/3 . Similiar to a base 3 system, but only for the decimal. so 3.1 innings is 3 1/3 innings in base 10. \n"
   ]
  },
  {
   "cell_type": "code",
   "execution_count": null,
   "metadata": {},
   "outputs": [],
   "source": [
    "import os\n",
    "os.path.exists(db_path)"
   ]
  },
  {
   "cell_type": "code",
   "execution_count": null,
   "metadata": {},
   "outputs": [],
   "source": [
    "# Clean Batting Data\n",
    "batting_df = pd.read_sql('SELECT * FROM bat', con=conn)\n",
    "for col in batting_df.columns:\n",
    "    batting_df[col] = batting_df[col].astype('int', errors='ignore')\n",
    "batting_df['Datetime'] = pd.to_datetime(batting_df['Date'], format=\"%Y-%m-%d\")"
   ]
  },
  {
   "cell_type": "code",
   "execution_count": null,
   "metadata": {},
   "outputs": [],
   "source": [
    "# Clean Position Data (Games Played at Each Position)\n",
    "# make a column for each position and count the games played at the position\n",
    "# prepend an f to each position to incidate its a fielding stat and avoid conflating Singles (1B) with the first base position\n",
    "unique_pos = []\n",
    "for dashed_pos in batting_df.Pos.unique():\n",
    "    [ unique_pos.append('f' + pos) for pos in dashed_pos.split('-') if 'f' + pos not in unique_pos]\n",
    "batting_df[unique_pos] = 0\n",
    "\n",
    "for pos in unique_pos:\n",
    "    batting_df.loc[batting_df['Pos'] == pos[1::], pos] = 1\n",
    "\n",
    "# Add Aggregate Positions (Like RF/CF/LF) being interchangeable\n",
    "batting_df['fOF'] = batting_df[['fRF', 'fCF', 'fLF']].sum(axis=1)\n",
    "unique_pos.append('fOF')"
   ]
  },
  {
   "cell_type": "code",
   "execution_count": null,
   "metadata": {},
   "outputs": [],
   "source": [
    "# Sanity Check (Tatis Played Games at SS, RF, CF, DH)\n",
    "batting_df.loc[batting_df['name'].str.contains('tatis-jr'), unique_pos].sum()"
   ]
  },
  {
   "cell_type": "code",
   "execution_count": null,
   "metadata": {},
   "outputs": [],
   "source": [
    "# Aggregate Batting Data for a Full Season\n",
    "batting_df_sum = batting_df.groupby(['id', 'name']).sum()"
   ]
  },
  {
   "cell_type": "code",
   "execution_count": null,
   "metadata": {},
   "outputs": [],
   "source": [
    "# Clean Pitching Data\n",
    "pitching_df = pd.read_sql('SELECT * FROM pit', con=conn)\n",
    "for col in pitching_df.columns:\n",
    "    pitching_df[col] = pitching_df[col].astype('int', errors='ignore')\n",
    "\n",
    "pitching_df['IP'] = pitching_df['IP'].apply(lambda x: bb_stat_utils.IP_basis_conversion(x))\n",
    "pitching_df_sum = pitching_df.groupby('name').sum()\n",
    "pitching_df['Datetime'] = pd.to_datetime(pitching_df['Date'], format=\"%Y-%m-%d\")"
   ]
  },
  {
   "cell_type": "code",
   "execution_count": null,
   "metadata": {},
   "outputs": [],
   "source": [
    "# Calculate 'advanced', non integer metrics for the full season,\n",
    "#  these functions are applied in place\n",
    "bb_stat_utils.calc_SLUG_TOT(batting_df_sum)\n",
    "bb_stat_utils.calc_WHIP_TOT(pitching_df_sum)"
   ]
  },
  {
   "cell_type": "markdown",
   "metadata": {},
   "source": [
    "# TOPSIS"
   ]
  },
  {
   "cell_type": "code",
   "execution_count": null,
   "metadata": {},
   "outputs": [],
   "source": [
    "cats = ['HR', 'RBI', 'OB_TOT', 'SB', 'SLUG_TOT']\n",
    "cats_power = {key: 1.0 for key in cats}\n",
    "\n",
    "min_games_played_at_pos = 20\n",
    "for pos in unique_pos:\n",
    "    mask = (batting_df_sum[pos] > min_games_played_at_pos)\n",
    "    sub_df = batting_df_sum.loc[mask,:].copy()\n",
    "    if len(sub_df) > 0:\n",
    "        score_df = bb_stat_utils.topsis(df=sub_df, cats=cats, cats_power=cats_power,  csv_name=None)\n",
    "        bb_stat_utils.determine_pick_value(score_df)\n",
    "        display(HTML(f'<h1>{pos}</h1><b>' + score_df.iloc[:10][cats + ['distance_from_ideals', 'improvement', 'pick_value']].to_html()+'<\\b>'))\n",
    "        \n",
    "        fig, ax = plt.subplots(nrows=3, ncols=1, figsize=(16,9))\n",
    "        fig.suptitle(pos)\n",
    "        ax[1].plot(score_df['distance_from_ideals'].values)\n",
    "        ax[1].set_ylabel('Distance From Ideal')\n",
    "        ax[0].plot(score_df['improvement'].values)\n",
    "        ax[0].set_ylabel('% Further Than Previous')\n",
    "        ax[2].hist(score_df['improvement'].values, bins=20)\n",
    "        ax[2].set_ylabel('Pick Value')\n",
    "        ax[0].grid()\n",
    "        ax[1].grid()\n",
    "        ax[2].grid()\n",
    "        "
   ]
  },
  {
   "cell_type": "code",
   "execution_count": null,
   "metadata": {},
   "outputs": [],
   "source": [
    "cats = ['ER', 'QS_STAND', 'SV', 'WH_TOT', 'SO', 'IP']\n",
    "cats_power = {'ER': -1.0, 'QS_STAND': 1.0, 'SV': 1.0, 'WH_TOT': -1.0, 'SO': 1.0, 'IP' : 1.0}\n",
    "score_df = bb_stat_utils.topsis(df=pitching_df_sum, cats=cats, cats_power=cats_power, csv_name=None)\n",
    "bb_stat_utils.determine_pick_value(score_df)\n",
    "\n",
    "display(HTML(f'<h1>Pitching</h1>' + score_df.iloc[:5][cats + ['distance_from_ideals']].to_html()))\n"
   ]
  }
 ],
 "metadata": {
  "interpreter": {
   "hash": "4348e79c2bd9c02b7f714402b12cc529f9a5d25cff87ecd2d61354c96eff1c81"
  },
  "kernelspec": {
   "display_name": "Python 3.8.10 64-bit ('.env': venv)",
   "name": "python3"
  },
  "language_info": {
   "codemirror_mode": {
    "name": "ipython",
    "version": 3
   },
   "file_extension": ".py",
   "mimetype": "text/x-python",
   "name": "python",
   "nbconvert_exporter": "python",
   "pygments_lexer": "ipython3",
   "version": "3.8.10"
  },
  "orig_nbformat": 4
 },
 "nbformat": 4,
 "nbformat_minor": 2
}
