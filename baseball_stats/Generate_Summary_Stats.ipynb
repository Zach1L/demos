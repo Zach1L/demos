{
 "cells": [
  {
   "cell_type": "markdown",
   "metadata": {},
   "source": [
    "## Baseball Stats\n",
    "This Notebooks Generates 2 .CSV containing summary data from all players, who played in 2021. \n",
    "This is a season level summary, there is no game by game detail\n",
    "For game level detail see 2021_MLB_stats.ipynb "
   ]
  },
  {
   "cell_type": "code",
   "execution_count": null,
   "metadata": {},
   "outputs": [],
   "source": [
    "import os\n",
    "import logging\n",
    "\n",
    "import pandas as pd\n",
    "\n",
    "import bb_stat_utils\n",
    "from scrapers import BaseBallReferenceScraper\n",
    "\n",
    "from IPython.display import display, HTML\n",
    "logging.basicConfig(format='%(asctime)s - %(levelname)s: %(message)s', level=logging.INFO)\n",
    "\n"
   ]
  },
  {
   "cell_type": "code",
   "execution_count": null,
   "metadata": {},
   "outputs": [],
   "source": [
    "pitching_csv = 'all_pitching.csv'\n",
    "batting_csv = 'all_batting.csv'"
   ]
  },
  {
   "cell_type": "code",
   "execution_count": null,
   "metadata": {},
   "outputs": [],
   "source": [
    "# This Cell will Take ~ 2-5 mins to download all data\n",
    "if (os.path.exists(pitching_csv)) and (os.path.exists(batting_csv)):\n",
    "    batting_df = pd.read_csv('all_batting.csv')\n",
    "    pitching_df = pd.read_csv('all_pitching.csv')\n",
    "else:\n",
    "    b = BaseBallReferenceScraper()\n",
    "    b.compile_stats_year()\n",
    "    b.batting_df.to_csv(batting_csv)\n",
    "    b.pitching_df.to_csv(pitching_csv)\n",
    "    batting_df = b.batting_df\n",
    "    pitching_df = b.pitching_df\n"
   ]
  },
  {
   "cell_type": "code",
   "execution_count": null,
   "metadata": {},
   "outputs": [],
   "source": [
    "bb_stat_utils.calc_SLUG_TOT(batting_df)\n",
    "cats = ['HR', 'RBI', 'OB_TOT', 'SB', 'SLUG_TOT']\n",
    "cats_power = {key: 1.0 for key in cats}\n",
    "batting_rank_df = bb_stat_utils.topsis(df=batting_df, cats=cats, cats_power=cats_power,  csv_name='bat_rank.csv')\n",
    "\n",
    "display(HTML(f'<h1>Batting All Positions</h1>' + batting_rank_df.iloc[:5][cats + ['distance_from_ideals']].to_html()))"
   ]
  },
  {
   "cell_type": "code",
   "execution_count": null,
   "metadata": {},
   "outputs": [],
   "source": [
    "bb_stat_utils.calc_WHIP_TOT(pitching_df)\n",
    "cats = ['ER', 'QS_STAND', 'SV', 'WH_TOT', 'SO', 'IP']\n",
    "cats_power = {'ER': -1.0, 'QS_STAND': 1.0, 'SV': 1.0, 'WH_TOT': -1.0, 'SO': 1.0, 'IP' : 1.0}\n",
    "pitching_rank_df = bb_stat_utils.topsis(df=pitching_df, cats=cats, cats_power=cats_power, csv_name='pitch_rank.csv')\n",
    "\n",
    "display(HTML(f'<h1>Pitching</h1>' + pitching_rank_df.iloc[:5][cats + ['distance_from_ideals']].to_html()))"
   ]
  }
 ],
 "metadata": {
  "interpreter": {
   "hash": "4348e79c2bd9c02b7f714402b12cc529f9a5d25cff87ecd2d61354c96eff1c81"
  },
  "kernelspec": {
   "display_name": "Python 3.8.10 64-bit ('.env': venv)",
   "name": "python3"
  },
  "language_info": {
   "codemirror_mode": {
    "name": "ipython",
    "version": 3
   },
   "file_extension": ".py",
   "mimetype": "text/x-python",
   "name": "python",
   "nbconvert_exporter": "python",
   "pygments_lexer": "ipython3",
   "version": "3.8.10"
  },
  "orig_nbformat": 4
 },
 "nbformat": 4,
 "nbformat_minor": 2
}
