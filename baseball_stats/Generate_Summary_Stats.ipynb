{
 "cells": [
  {
   "cell_type": "markdown",
   "metadata": {},
   "source": [
    "## Baseball Stats\n",
    "This Notebooks Generates 2 .CSV containing summary data from all players, who played in 2021. \n",
    "This is a season level summary, there is no game by game detail\n",
    "For game level detail see 2021_MLB_stats.ipynb "
   ]
  },
  {
   "cell_type": "code",
   "execution_count": null,
   "metadata": {},
   "outputs": [],
   "source": [
    "import logging\n",
    "from scrapers import BaseBallReferenceScraper"
   ]
  },
  {
   "cell_type": "code",
   "execution_count": null,
   "metadata": {},
   "outputs": [],
   "source": [
    "# This Cell will Take ~ 2-5 mins to download all data\n",
    "logging.basicConfig(format='%(asctime)s - %(levelname)s: %(message)s', level=logging.INFO)\n",
    "b = BaseBallReferenceScraper()\n",
    "b.compile_stats_year()\n",
    "b.batting_df.to_csv('all_batting.csv')\n",
    "b.pitching_df.to_csv('all_pitching.csv')\n",
    "batting_df = b.batting_df\n",
    "pitching_df = b.pitching_df\n"
   ]
  }
 ],
 "metadata": {
  "interpreter": {
   "hash": "4348e79c2bd9c02b7f714402b12cc529f9a5d25cff87ecd2d61354c96eff1c81"
  },
  "kernelspec": {
   "display_name": "Python 3.8.10 64-bit ('.env': venv)",
   "name": "python3"
  },
  "language_info": {
   "codemirror_mode": {
    "name": "ipython",
    "version": 3
   },
   "file_extension": ".py",
   "mimetype": "text/x-python",
   "name": "python",
   "nbconvert_exporter": "python",
   "pygments_lexer": "ipython3",
   "version": "3.8.10"
  },
  "orig_nbformat": 4
 },
 "nbformat": 4,
 "nbformat_minor": 2
}
